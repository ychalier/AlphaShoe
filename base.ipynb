{
 "cells": [
  {
   "cell_type": "code",
   "execution_count": 65,
   "metadata": {
    "collapsed": false
   },
   "outputs": [],
   "source": [
    "# coding: utf-8\n",
    "\n",
    "from sklearn.ensemble import RandomForestClassifier\n",
    "from sklearn.linear_model import LogisticRegression\n",
    "from sklearn.feature_selection import SelectKBest\n",
    "from sklearn.feature_selection import chi2\n",
    "from sklearn.metrics import roc_auc_score\n",
    "from sklearn.tree import DecisionTreeClassifier\n",
    "from matplotlib import pyplot as plt\n",
    "%matplotlib inline\n",
    "import pandas as pd\n",
    "import numpy as np\n",
    "import time\n",
    "\n",
    "def log(text, t_start=None):\n",
    "    if t_start is None:\n",
    "        print(text)\n",
    "    else:\n",
    "        elapsed_time = round(time.time() - t_start, 2)\n",
    "        print(text + \"\\t(\" + str(elapsed_time) + \"s)\")"
   ]
  },
  {
   "cell_type": "markdown",
   "metadata": {},
   "source": [
    "### Loading files"
   ]
  },
  {
   "cell_type": "code",
   "execution_count": 3,
   "metadata": {
    "collapsed": false
   },
   "outputs": [
    {
     "name": "stdout",
     "output_type": "stream",
     "text": [
      "files loaded\t(8.82s)\n"
     ]
    }
   ],
   "source": [
    "t = time.time()\n",
    "customers = pd.read_csv(\"data/customers.csv\")\n",
    "products = pd.read_csv(\"data/products.csv\")\n",
    "x_train = pd.read_csv(\"data/X_train.csv\")\n",
    "y_train = pd.read_csv(\"data/y_train.csv\")\n",
    "x_test = pd.read_csv(\"data/X_test.csv\")\n",
    "y_test = pd.read_csv(\"data/y_test.csv\")\n",
    "log(\"files loaded\", t)"
   ]
  },
  {
   "cell_type": "markdown",
   "metadata": {},
   "source": [
    "### Statistics"
   ]
  },
  {
   "cell_type": "code",
   "execution_count": 116,
   "metadata": {
    "collapsed": false
   },
   "outputs": [
    {
     "name": "stdout",
     "output_type": "stream",
     "text": [
      "\n",
      "----- OrderStatusLabel -----\n",
      "Expédié \t0.206495870083 returns\n",
      "\n",
      "----- OrderTypelabel -----\n",
      "DIRECT \t0.207155222158 returns\n",
      "EXCHANGE \t0.184834123223 returns\n",
      "\n",
      "----- SeasonLabel -----\n",
      "Automne/Hiver \t0.212977834886 returns\n",
      "Printemps/Eté \t0.162486368593 returns\n",
      "\n",
      "----- PayementModeLabel -----\n",
      "Carte bancaire \t0.202168590416 returns\n",
      "Gratuit \t0.188034188034 returns\n",
      "iDeal \t0.16 returns\n",
      "PayPal \t0.237723214286 returns\n",
      "Chèque \t0.235897435897 returns\n",
      "\n",
      "----- CustomerTypeLabel -----\n",
      "Nouveau \t0.185685541822 returns\n",
      "Fidélisé \t0.226255458515 returns\n",
      "\n",
      "----- DeviceTypeLabel -----\n",
      "ND \t0.206495870083 returns\n",
      "\n",
      "----- PricingTypeLabel -----\n",
      "Promo Sans CP \t0.199652777778 returns\n",
      "Vente Privée \t0.212740384615 returns\n",
      "Promo Avec CP \t0.250505050505 returns\n",
      "Plein Tarif \t0.202788649706 returns\n"
     ]
    }
   ],
   "source": [
    "def col_stats(col):\n",
    "    print \"\\n----- \" + col + \" -----\"\n",
    "    xx = {}\n",
    "    for i, o in x_train.loc[:50000:7].iterrows():\n",
    "        if o[col] not in xx.keys():\n",
    "            xx[o[col]] = [0., 0.]\n",
    "        if y_train.loc[i, [\"ReturnQuantityBin\"]][0] == 0.0:\n",
    "            xx[o[col]][0] += 1.\n",
    "        else:\n",
    "            xx[o[col]][1] += 1.\n",
    "\n",
    "    for val, (zeros, ones) in xx.items():\n",
    "        print val, \"\\t\", (ones/(zeros+ones)), \"returns\"\n",
    "\n",
    "for col in x_train.columns:\n",
    "    if \"label\" in col.lower():\n",
    "        col_stats(col)"
   ]
  },
  {
   "cell_type": "markdown",
   "metadata": {},
   "source": [
    "### Applying mask\n",
    "\n",
    "Here we select the desired columns. We join (just as in SQL) the `orders` table with the `customers` and the `products`. For each of those two tables, we only select a few columns. We also remove unwanted columns (`columns_text`) from `orders`. Finally, there is some data transformation to use prices as floats and turn string columns into separate ones."
   ]
  },
  {
   "cell_type": "code",
   "execution_count": 122,
   "metadata": {
    "collapsed": false
   },
   "outputs": [
    {
     "name": "stdout",
     "output_type": "stream",
     "text": [
      "applied mask\t(5.73s)\n"
     ]
    }
   ],
   "source": [
    "def funk_mask(orders, customers, products):\n",
    "    columns_ext = [\"OrderCreationDate\", \"OrderNumber\", \"VariantId\",\n",
    "                   \"CustomerId\", \"OrderCreationDate\", \"OrderShipDate\",\n",
    "                   \"BillingPostalCode\"\n",
    "                  ]\n",
    "    \n",
    "    product_columns = [\"VariantId\", \"SeasonLabel\"]\n",
    "    \n",
    "    customers_columns = [\"CustomerId\", \"Gender\"]\n",
    "    \n",
    "    m = pd.merge(orders,\n",
    "                 products.loc[:, product_columns],\n",
    "                 on='VariantId',\n",
    "                 suffixes=('_pr', ''))\n",
    "    m = pd.merge(m,\n",
    "                 customers.loc[:, customers_columns],\n",
    "                 on='CustomerId',\n",
    "                 suffixes=('_cs', ''))\n",
    "        \n",
    "    # Remove columns from input array\n",
    "    x1 = m.loc[:, [xx for xx in m.columns if xx not in columns_ext]]\n",
    "    # Convert UnitPMPEur column to floats (price of a unit, in euros)\n",
    "    x1.UnitPMPEUR = [np.float(x.replace(\",\", \".\")) for x in x1.UnitPMPEUR]\n",
    "    # Select columns that contains string values\n",
    "    columns2bin = [x for x in x1.columns if x1[x].dtype == np.dtype('O')]\n",
    "    # Convert those to numerical indicators\n",
    "    x2 = pd.get_dummies(x1.loc[:, columns2bin])\n",
    "    # Extract other columns without modyfing them\n",
    "    x3 = x1.loc[:, [xx for xx in x1.columns if xx not in columns2bin]]\n",
    "    # Rebuild data\n",
    "    res = pd.concat([x3, x2], axis=1)\n",
    "    # Fill holes with 0s\n",
    "    res = res.fillna(0)\n",
    "    return res\n",
    "\n",
    "t = time.time()\n",
    "x1 = funk_mask(x_train, customers, products)\n",
    "x2 = funk_mask(x_test, customers, products)\n",
    "log(\"applied mask\", t)"
   ]
  },
  {
   "cell_type": "code",
   "execution_count": 119,
   "metadata": {
    "collapsed": false
   },
   "outputs": [
    {
     "name": "stdout",
     "output_type": "stream",
     "text": [
      "Training dataset shape: (509414, 23)\n",
      "Test dataset shape:     (455104, 22)\n"
     ]
    }
   ],
   "source": [
    "print \"Training dataset shape:\", x1.shape\n",
    "print \"Test dataset shape:    \", x2.shape"
   ]
  },
  {
   "cell_type": "markdown",
   "metadata": {},
   "source": [
    "### Building classifier"
   ]
  },
  {
   "cell_type": "code",
   "execution_count": 127,
   "metadata": {
    "collapsed": false
   },
   "outputs": [
    {
     "name": "stdout",
     "output_type": "stream",
     "text": [
      "\n",
      ":\n",
      "Train score: 0.996301066698\n",
      "Test score:  0.500029803463\n",
      "LineItem \t-0.000636213181821\n",
      "TotalLineItems \t0.00431433107195\n",
      "Quantity \t0.0018399627899\n",
      "UnitPMPEUR \t-0.00104463708065\n",
      "OrderNumCustomer \t0.00242143023711\n",
      "IsOnSale \t0.00241663882896\n",
      "OrderStatusLabel_Expédié \t0.00362865898416\n",
      "OrderTypelabel_DIRECT \t0.00252004692218\n",
      "OrderTypelabel_EXCHANGE \t0.00208523026926\n",
      "SeasonLabel_pr_Automne/Hiver \t0.00266136315274\n",
      "SeasonLabel_pr_Printemps/Eté \t0.000534972100385\n",
      "PayementModeLabel_BankTransfer_DE \t0.00224898803955\n",
      "PayementModeLabel_BankTransfer_IBAN \t0.00236023915386\n",
      "PayementModeLabel_Carte bancaire \t0.00187553463081\n",
      "PayementModeLabel_Chèque \t0.00132186389786\n",
      "PayementModeLabel_Cod_DHL \t-4.31151732618e-05\n",
      "PayementModeLabel_DotPay \t0.0023011818961\n",
      "PayementModeLabel_Gratuit \t0.0036354193313\n",
      "PayementModeLabel_PayPal \t0.00207601117321\n",
      "PayementModeLabel_iDeal \t0.00118731771364\n",
      "PayementModeLabel_maestro \t0.00159094414231\n",
      "CustomerTypeLabel_Fidélisé \t8.76398335087e-05\n",
      "CustomerTypeLabel_Nouveau \t0.00141105537873\n",
      "IsoCode_AT \t0.000876385391884\n",
      "IsoCode_BE \t0.00368536903388\n",
      "IsoCode_BG \t0.00165709152023\n",
      "IsoCode_CZ \t-0.000628548383653\n",
      "IsoCode_DE \t-0.000532018240451\n",
      "IsoCode_DK \t0.000737892842895\n",
      "IsoCode_EE \t0.00284913373424\n",
      "IsoCode_ES \t0.00187734110808\n",
      "IsoCode_FI \t0.00231265484533\n",
      "IsoCode_FR \t0.003638999551\n",
      "IsoCode_GB \t0.00326134274852\n",
      "IsoCode_GR \t0.00174602354731\n",
      "IsoCode_HU \t0.00402001349143\n",
      "IsoCode_IE \t0.0015580905041\n",
      "IsoCode_IT \t0.00269613480909\n",
      "IsoCode_LT \t0.00186196422811\n",
      "IsoCode_LU \t-0.00292666267987\n",
      "IsoCode_LV \t-0.000378502832541\n",
      "IsoCode_NL \t-0.00154544107457\n",
      "IsoCode_PL \t0.000502660405357\n",
      "IsoCode_PT \t-0.000464883968236\n",
      "IsoCode_RO \t0.00153590963056\n",
      "IsoCode_SE \t0.00221247658798\n",
      "IsoCode_SI \t0.00316397968594\n",
      "IsoCode_SK \t0.00179780033797\n",
      "DeviceTypeLabel_Desktop \t0.00320040141984\n",
      "DeviceTypeLabel_Mobile \t0.00208162701394\n",
      "DeviceTypeLabel_ND \t-0.000228446404253\n",
      "DeviceTypeLabel_Tablet \t0.000603178134951\n",
      "PricingTypeLabel_Plein Tarif \t0.00406762326038\n",
      "PricingTypeLabel_Promo Avec CP \t0.00204988393491\n",
      "PricingTypeLabel_Promo Sans CP \t0.00243766185968\n",
      "PricingTypeLabel_Soldes \t0.00134771592117\n",
      "PricingTypeLabel_Vente Privée \t0.000232725418315\n",
      "SeasonLabel_Automne/Hiver \t0.00106391228081\n",
      "SeasonLabel_Printemps/EtÃ© \t0.00133212929585\n",
      "Gender_Femme \t0.00251740025112\n",
      "Gender_Homme \t0.00178025932249\n",
      "Gender_NC \t0.00204337819195\n",
      "run tests\t(45.01s)\n"
     ]
    }
   ],
   "source": [
    "def compute(name, clf, training_slice=100000, submit=False):\n",
    "    print \"\\n\" + name + \":\"\n",
    "    clf.fit(x1.iloc[:training_slice],\n",
    "            y_train.ReturnQuantityBin[:training_slice])\n",
    "    \n",
    "    predict_train = clf.predict_proba(\n",
    "        x1.loc[:training_slice, x1.columns])\n",
    "    score_train = roc_auc_score(\n",
    "        y_train.ReturnQuantityBin.iloc[:training_slice + 1],\n",
    "        predict_train[:, 1])\n",
    "    print \"Train score:\", score_train\n",
    "\n",
    "    predict_test = clf.predict_proba(\n",
    "        x1.loc[training_slice:2 * training_slice, x1.columns]\n",
    "        .fillna(0))\n",
    "    score_test = roc_auc_score(\n",
    "        y_train.ReturnQuantityBin.iloc[training_slice:2 * training_slice + 1],\n",
    "        predict_test[:,1])\n",
    "    print \"Test score: \", score_test\n",
    "\n",
    "    if submit:\n",
    "        y_submit = clf.predict_proba(x2.loc[:, x1.columns].fillna(0))\n",
    "        np.savetxt('y_pred.txt', y_submit[:,1], fmt='%f')\n",
    "    \n",
    "    return score_train, score_test\n",
    "\n",
    "def test_classifiers():\n",
    "    for (name, clf) in [\n",
    "        (\"tree\", DecisionTreeClassifier()),\n",
    "        (\"forest\", RandomForestClassifier()),\n",
    "        (\"logistic regression\", LogisticRegression())\n",
    "    ]:\n",
    "        compute(name, clf)\n",
    "\n",
    "def test_columns(training_slice=50000):\n",
    "    \n",
    "    strain, stest = compute(\"\", DecisionTreeClassifier())\n",
    "    \n",
    "    for col in x1.columns:\n",
    "        xx1 = x1.loc[:, [xx for xx in x1.columns if xx != col]]\n",
    "        clf = DecisionTreeClassifier()\n",
    "        clf.fit(xx1.iloc[:training_slice],\n",
    "                y_train.ReturnQuantityBin[:training_slice])\n",
    "        predict_test = clf.predict_proba(\n",
    "        xx1.loc[training_slice:2 * training_slice, xx1.columns].fillna(0))\n",
    "        score_test = roc_auc_score(y_train.ReturnQuantityBin.iloc[training_slice:2 * training_slice + 1],\n",
    "                                   predict_test[:,1])\n",
    "        print col, \"\\t\", stest - score_test\n",
    "\n",
    "t = time.time()\n",
    "test_columns()\n",
    "# test_classifiers()\n",
    "log(\"run tests\", t)"
   ]
  }
 ],
 "metadata": {
  "kernelspec": {
   "display_name": "Python 2",
   "language": "python",
   "name": "python2"
  },
  "language_info": {
   "codemirror_mode": {
    "name": "ipython",
    "version": 2
   },
   "file_extension": ".py",
   "mimetype": "text/x-python",
   "name": "python",
   "nbconvert_exporter": "python",
   "pygments_lexer": "ipython2",
   "version": "2.7.13"
  }
 },
 "nbformat": 4,
 "nbformat_minor": 2
}
