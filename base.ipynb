{
 "cells": [
  {
   "cell_type": "code",
   "execution_count": 1,
   "metadata": {
    "collapsed": false
   },
   "outputs": [],
   "source": [
    "# coding: utf-8\n",
    "\n",
    "from sklearn.ensemble import RandomForestClassifier\n",
    "from sklearn.linear_model import LogisticRegression\n",
    "from sklearn.feature_selection import SelectKBest\n",
    "from sklearn.feature_selection import chi2\n",
    "from sklearn.metrics import roc_auc_score\n",
    "from sklearn.tree import DecisionTreeClassifier\n",
    "from matplotlib import pyplot as plt\n",
    "%matplotlib inline\n",
    "import pandas as pd\n",
    "import numpy as np\n",
    "import time\n",
    "\n",
    "def log(text, t_start=None):\n",
    "    if t_start is None:\n",
    "        print(text)\n",
    "    else:\n",
    "        elapsed_time = round(time.time() - t_start, 2)\n",
    "        print(text + \"\\t(\" + str(elapsed_time) + \"s)\")"
   ]
  },
  {
   "cell_type": "markdown",
   "metadata": {},
   "source": [
    "### Loading files"
   ]
  },
  {
   "cell_type": "code",
   "execution_count": 7,
   "metadata": {
    "collapsed": false
   },
   "outputs": [
    {
     "name": "stdout",
     "output_type": "stream",
     "text": [
      "files loaded\t(7.12s)\n"
     ]
    }
   ],
   "source": [
    "t = time.time()\n",
    "customers = pd.read_csv(\"data/customers.csv\")\n",
    "products = pd.read_csv(\"data/products.csv\")\n",
    "x_train = pd.read_csv(\"data/X_train.csv\")\n",
    "y_train = pd.read_csv(\"data/y_train.csv\")\n",
    "x_test = pd.read_csv(\"data/X_test.csv\")\n",
    "y_test = pd.read_csv(\"data/y_test.csv\")\n",
    "log(\"files loaded\", t)"
   ]
  },
  {
   "cell_type": "code",
   "execution_count": 53,
   "metadata": {
    "collapsed": false
   },
   "outputs": [
    {
     "name": "stdout",
     "output_type": "stream",
     "text": [
      "dataframe shape: (1067290, 36)\n",
      "dataframe built\t(4.21s)\n",
      "dataframe shape: (800468, 36)\n",
      "dataframe built\t(3.49s)\n"
     ]
    }
   ],
   "source": [
    "def build_df(x):\n",
    "    t = time.time()\n",
    "    \n",
    "    m = None\n",
    "    \n",
    "    # join\n",
    "    m = pd.merge(x, products, how='left', on='VariantId', suffixes=('_pr', ''))\n",
    "    m = pd.merge(m, customers, how='left', on='CustomerId', suffixes=('_cs', ''))\n",
    "    \n",
    "    # converting UnitPMPEUR\n",
    "    m.UnitPMPEUR = [float(row.replace(',', '.')) for row in m.UnitPMPEUR]\n",
    "    \n",
    "    # building news columns\n",
    "    m[\"MatchGender\"] = m[\"Gender\"] == m[\"GenderLabel\"]\n",
    "    m[\"MatchSeason\"] = m[\"SeasonLabel_pr\"] == m[\"SeasonLabel\"]\n",
    "        \n",
    "    # removing useless columns\n",
    "    blacklist = ['VariantId', 'CustomerId', 'OrderNumber', 'LineItem',\n",
    "                 'ProductColorId', 'BrandId', 'SupplierColor',\n",
    "                 'OrderCreationDate', 'OrderShipDate', 'ProductId',\n",
    "                 'BillingPostalCode', 'BirthDate', 'FirstOrderDate',\n",
    "                 'OrderStatusLabel'\n",
    "                ]\n",
    "    whitelist = None\n",
    "    if blacklist is not None:\n",
    "        m = m.drop(blacklist, axis=1)\n",
    "    if whitelist is not None:\n",
    "        for col in m.columns:\n",
    "            if col not in whitelist:\n",
    "                m = m.drop([col], axis=1)\n",
    "\n",
    "    print \"dataframe shape:\", m.shape\n",
    "    log(\"dataframe built\", t)\n",
    "    return m\n",
    "\n",
    "df_train = build_df(x_train)\n",
    "df_test = build_df(x_test)"
   ]
  },
  {
   "cell_type": "markdown",
   "metadata": {},
   "source": [
    "### Statistics"
   ]
  },
  {
   "cell_type": "code",
   "execution_count": 58,
   "metadata": {
    "collapsed": false
   },
   "outputs": [
    {
     "name": "stdout",
     "output_type": "stream",
     "text": [
      "\n",
      "----- OrderTypelabel -----\n",
      "variance: 0.00017 \tvalue count: 2\n",
      "\n",
      "----- SeasonLabel_pr -----\n",
      "variance: 7e-05 \tvalue count: 2\n",
      "\n",
      "----- PayementModeLabel -----\n",
      "variance: 0.00472 \tvalue count: 10\n",
      "\n",
      "----- CustomerTypeLabel -----\n",
      "variance: 0.00022 \tvalue count: 2\n",
      "\n",
      "----- IsoCode -----\n",
      "variance: 0.04536 \tvalue count: 20\n",
      "\n",
      "----- DeviceTypeLabel -----\n",
      "variance: 0.00124 \tvalue count: 4\n",
      "\n",
      "----- PricingTypeLabel -----\n",
      "variance: 0.00072 \tvalue count: 5\n",
      "\n",
      "----- GenderLabel -----\n",
      "variance: 0.00338 \tvalue count: 6\n",
      "\n",
      "----- MarketTargetLabel -----\n",
      "variance: 0.00735 \tvalue count: 14\n",
      "\n",
      "----- SeasonLabel -----\n",
      "variance: 0.00025 \tvalue count: 3\n",
      "\n",
      "----- SeasonalityLabel -----\n",
      "variance: 0.00057 \tvalue count: 4\n",
      "\n",
      "----- UniverseLabel -----\n",
      "variance: 0.00268 \tvalue count: 9\n",
      "\n",
      "----- TypeBrand -----\n",
      "variance: 0.00581 \tvalue count: 4\n",
      "\n",
      "----- ProductType -----\n",
      "variance: 0.00893 \tvalue count: 30\n",
      "\n",
      "----- SubtypeLabel -----\n",
      "variance: 0.03809 \tvalue count: 44\n",
      "\n",
      "----- UpperMaterialLabel -----\n",
      "variance: 0.00883 \tvalue count: 9\n",
      "\n",
      "----- LiningMaterialLabel -----\n",
      "variance: 0.07434 \tvalue count: 11\n",
      "\n",
      "----- OutSoleMaterialLabel -----\n",
      "variance: 0.01128 \tvalue count: 8\n",
      "\n",
      "----- RemovableSole -----\n",
      "variance: 0.00039 \tvalue count: 3\n",
      "\n",
      "----- SizeAdviceDescription -----\n",
      "variance: 0.01137 \tvalue count: 11\n",
      "\n",
      "----- CountryISOCode -----\n",
      "variance: 0.05302 \tvalue count: 19\n",
      "\n",
      "----- Gender -----\n",
      "variance: 0.00061 \tvalue count: 3\n",
      "\n",
      "ignored columns: ['TotalLineItems', 'Quantity', 'UnitPMPEUR', 'OrderNumCustomer', 'IsOnSale', 'MinSize', 'MaxSize', 'CalfTurn', 'UpperHeight', 'HeelHeight', 'PurchasePriceHT', 'IsNewCollection', 'MatchGender', 'MatchSeason']\n"
     ]
    }
   ],
   "source": [
    "def column_stat(x, y, col, step=100, verbose=True):\n",
    "    print \"\\n----- \" + col + \" -----\"\n",
    "    dictionnary = {}\n",
    "    for i, o in x.loc[::step].iterrows():\n",
    "        if str(o[col]) not in dictionnary.keys():\n",
    "            dictionnary[str(o[col])] = [0., 0.]\n",
    "        if y.loc[i, [\"ReturnQuantityBin\"]][0] == 0.0:\n",
    "            dictionnary[str(o[col])][0] += 1.\n",
    "        else:\n",
    "            dictionnary[str(o[col])][1] += 1.\n",
    "    values = []\n",
    "    for val, (zeros, ones) in dictionnary.items():\n",
    "        values.append((ones / (zeros + ones)))\n",
    "        if verbose:\n",
    "            print val, \"\\t\", values[-1], \"returns\"\n",
    "    variance = np.var(values)\n",
    "    print \"variance:\", round(variance, 5), \"\\tvalue count:\", len(values)\n",
    "    return variance, variance / len(values)\n",
    "\n",
    "def string_stats(x, y, verbose=False):\n",
    "    ignored = []\n",
    "    labels = []\n",
    "    variability = []\n",
    "    relative_variability = []\n",
    "    for col in x.columns:\n",
    "        if x[col].dtype == \"object\":\n",
    "            labels.append(col)\n",
    "            var, rel = column_stat(x, y, col, verbose=verbose)\n",
    "            variability.append(var)\n",
    "            relative_variability.append(rel)\n",
    "        else:\n",
    "            ignored.append(col)\n",
    "    print \"\\nignored columns:\", ignored\n",
    "    return labels, variability, relative_variability\n",
    "\n",
    "labels, variability, relative_variability = string_stats(df_train, y_train)"
   ]
  },
  {
   "cell_type": "code",
   "execution_count": 59,
   "metadata": {
    "collapsed": false
   },
   "outputs": [
    {
     "data": {
      "image/png": "[encoded data removed]",
      "text/plain": [
       "<matplotlib.figure.Figure at 0x7fac35176f50>"
      ]
     },
     "metadata": {},
     "output_type": "display_data"
    }
   ],
   "source": [
    "def plot_variances(labels, values_l, values_r):\n",
    "    fig, ax = plt.subplots(figsize=(16,10))\n",
    "    ind = np.arange(len(values_l))\n",
    "    width = .35\n",
    "    ax.bar(ind - width/2, values_l, width)\n",
    "    ax.bar(ind + width/2, values_r, width)\n",
    "    ax.set_xticks(ind)\n",
    "    ax.set_xticklabels(labels)\n",
    "    plt.xticks(rotation=70)\n",
    "\n",
    "plot_variances(labels, variability, relative_variability)"
   ]
  },
  {
   "cell_type": "code",
   "execution_count": 60,
   "metadata": {
    "collapsed": false
   },
   "outputs": [
    {
     "name": "stdout",
     "output_type": "stream",
     "text": [
      "new shape: (1067290, 247)\n",
      "new shape: (800468, 268)\n",
      "applied mask\t(5.26s)\n"
     ]
    }
   ],
   "source": [
    "def mask(m):\n",
    "    columns2bin = [col for col in m.columns if m[col].dtype == 'object']\n",
    "    other_cols = m.drop(columns2bin, axis=1)\n",
    "    new_cols = pd.get_dummies(m.loc[:, columns2bin])\n",
    "    res = pd.concat([other_cols, new_cols], axis=1)\n",
    "    res = res.fillna(0)\n",
    "    print \"new shape:\", res.shape\n",
    "    return res\n",
    "\n",
    "t = time.time()\n",
    "x1 = mask(df_train)\n",
    "x2 = mask(df_test)\n",
    "log(\"applied mask\", t)"
   ]
  },
  {
   "cell_type": "code",
   "execution_count": 78,
   "metadata": {
    "collapsed": false
   },
   "outputs": [
    {
     "name": "stdout",
     "output_type": "stream",
     "text": [
      "train shape:\t(1067290, 247) \t(1067290, 4)\n",
      "test shape:\t(800468, 268) \t(800468, 4)\n",
      "\n",
      "----- random forest -----\n",
      "train score: 0.9847204833058057\n",
      "test score: 0.5730252380232103\n",
      "\n",
      "----- decision tree -----\n",
      "train score: 0.9959923736465189\n",
      "test score: 0.5314398332447668\n",
      "\n",
      "----- logistic regression -----\n",
      "train score: 0.6435900936479402\n",
      "test score: 0.6354450630501511\n"
     ]
    }
   ],
   "source": [
    "print \"train shape:\\t\", x1.shape, \"\\t\", y_train.shape\n",
    "print \"test shape:\\t\", x2.shape, \"\\t\", y_test.shape\n",
    "\n",
    "def compute(name, clf, slc=100000):\n",
    "    print \"\\n-----\", name, \"-----\"\n",
    "    clf.fit(x1.iloc[:slc], y_train.ReturnQuantityBin[:slc])\n",
    "    \n",
    "    predict_train = clf.predict_proba(x1.iloc[:slc])\n",
    "    score_train = roc_auc_score(y_train.ReturnQuantityBin[:slc], predict_train[:, 1])\n",
    "    print \"train score:\", score_train\n",
    "    \n",
    "    predict_test = clf.predict_proba(x1.iloc[slc:2 * slc])\n",
    "    score_test = roc_auc_score(y_train.ReturnQuantityBin[slc:2 * slc], predict_test[:, 1])\n",
    "    print \"test score:\", score_test\n",
    "\n",
    "compute(\"random forest\", RandomForestClassifier())\n",
    "compute(\"decision tree\", DecisionTreeClassifier())\n",
    "compute(\"logistic regression\", LogisticRegression())\n"
   ]
  },
  {
   "cell_type": "code",
   "execution_count": 25,
   "metadata": {
    "collapsed": false
   },
   "outputs": [
    {
     "name": "stdout",
     "output_type": "stream",
     "text": [
      "Training dataset shape: (509414, 62)\n",
      "Test dataset shape:     (455104, 70)\n"
     ]
    }
   ],
   "source": [
    "print \"Training dataset shape:\", x1.shape\n",
    "print \"Test dataset shape:    \", x2.shape"
   ]
  },
  {
   "cell_type": "markdown",
   "metadata": {},
   "source": [
    "### Building classifier"
   ]
  },
  {
   "cell_type": "code",
   "execution_count": null,
   "metadata": {
    "collapsed": true
   },
   "outputs": [],
   "source": []
  }
 ],
 "metadata": {
  "kernelspec": {
   "display_name": "Python 2",
   "language": "python",
   "name": "python2"
  },
  "language_info": {
   "codemirror_mode": {
    "name": "ipython",
    "version": 2
   },
   "file_extension": ".py",
   "mimetype": "text/x-python",
   "name": "python",
   "nbconvert_exporter": "python",
   "pygments_lexer": "ipython2",
   "version": "2.7.13"
  }
 },
 "nbformat": 4,
 "nbformat_minor": 2
}
